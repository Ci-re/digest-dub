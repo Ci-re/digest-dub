{
 "cells": [
  {
   "cell_type": "code",
   "execution_count": 11,
   "metadata": {},
   "outputs": [],
   "source": [
    "from logging import Logger\n",
    "from dotenv import load_dotenv\n",
    "import json\n",
    "import google.generativeai as genai\n",
    "import pandas as pd\n",
    "import os\n",
    "import numpy as np\n",
    "import logging\n",
    "import typing_extensions as typing\n",
    "import time\n",
    "from app.utils.stomach import save_json"
   ]
  },
  {
   "cell_type": "code",
   "execution_count": 12,
   "metadata": {},
   "outputs": [],
   "source": [
    "logger = logging.getLogger(__name__)  # Use a named logger"
   ]
  },
  {
   "cell_type": "code",
   "execution_count": null,
   "metadata": {},
   "outputs": [],
   "source": [
    "logging.basicConfig(level=logging.INFO)\n",
    "RECIPE = \"../../app/data/processed/recipe_cleaned.json\"\n",
    "INGREDIENTS = \"../../app/data/processed/ingredients_AI.json\"\n",
    "MEAL = \"../../app/data/processed/meal_cleaned.json\"\n",
    "MEALTORECIPE = \"../../app/data/processed/mealtorecipe.json\" "
   ]
  },
  {
   "cell_type": "code",
   "execution_count": 27,
   "metadata": {},
   "outputs": [
    {
     "name": "stderr",
     "output_type": "stream",
     "text": [
      "INFO:__main__:PREPARING DATA\n"
     ]
    }
   ],
   "source": [
    "logger.info(\"PREPARING DATA\")\n",
    "data: pd.DataFrame = pd.read_json(MEAL)\n",
    "data = data.replace({np.nan: None, '': None, ' ': None})"
   ]
  },
  {
   "cell_type": "code",
   "execution_count": 28,
   "metadata": {},
   "outputs": [],
   "source": [
    "data[\"updated_at\"] = data[\"created_at\"]"
   ]
  },
  {
   "cell_type": "code",
   "execution_count": 29,
   "metadata": {},
   "outputs": [],
   "source": [
    "data[\"status\"] = \"PUBLISHED\"\n",
    "data[\"video_url\"] = \"Not Available\""
   ]
  },
  {
   "cell_type": "code",
   "execution_count": 31,
   "metadata": {},
   "outputs": [
    {
     "data": {
      "text/plain": [
       "220"
      ]
     },
     "execution_count": 31,
     "metadata": {},
     "output_type": "execute_result"
    }
   ],
   "source": [
    "data = data[[\"meal_id\", \"name\", \"description\", \"status\", \"created_at\", \"updated_at\", \"source\", \"video_url\"]]\n",
    "len(data)"
   ]
  },
  {
   "cell_type": "code",
   "execution_count": 33,
   "metadata": {},
   "outputs": [
    {
     "data": {
      "text/plain": [
       "220"
      ]
     },
     "execution_count": 33,
     "metadata": {},
     "output_type": "execute_result"
    }
   ],
   "source": [
    "df_cleaned = data.drop_duplicates()\n",
    "df_cleaned = df_cleaned.reset_index().drop(columns=\"index\")\n",
    "len(df_cleaned)"
   ]
  },
  {
   "cell_type": "code",
   "execution_count": 34,
   "metadata": {},
   "outputs": [
    {
     "name": "stdout",
     "output_type": "stream",
     "text": [
      "220\n"
     ]
    },
    {
     "data": {
      "text/plain": [
       "(Index(['meal_id', 'name', 'description', 'status', 'created_at', 'updated_at',\n",
       "        'source', 'video_url'],\n",
       "       dtype='object'),\n",
       " Index(['meal_type', 'recipe_id', 'alternative_meal_type', 'category',\n",
       "        'course_type'],\n",
       "       dtype='object'),\n",
       " Index(['main_ingredient', 'quantity', 'weight', 'ingredient_id',\n",
       "        'alternative_ingredient', 'measurement'],\n",
       "       dtype='object'),\n",
       " Index(['meal_id', 'recipe_id'], dtype='object'))"
      ]
     },
     "execution_count": 34,
     "metadata": {},
     "output_type": "execute_result"
    }
   ],
   "source": [
    "import pandas as pd\n",
    "\n",
    "# Load datasets\n",
    "meals_df = df_cleaned\n",
    "recipes_df = pd.read_json(RECIPE)\n",
    "meal_to_recipe_df = pd.read_json(MEALTORECIPE)\n",
    "ingredients_df = pd.read_json(INGREDIENTS)\n",
    "\n",
    "recipes_df = recipes_df.drop_duplicates()\n",
    "print(len(recipes_df))\n",
    "\n",
    "meals_df.columns, recipes_df.columns, ingredients_df.columns, meal_to_recipe_df.columns"
   ]
  },
  {
   "cell_type": "code",
   "execution_count": 35,
   "metadata": {},
   "outputs": [],
   "source": [
    "ingredients_df = ingredients_df.rename(columns={\"ingredient_id\": \"recipe_id\"})"
   ]
  },
  {
   "cell_type": "code",
   "execution_count": 36,
   "metadata": {},
   "outputs": [
    {
     "name": "stdout",
     "output_type": "stream",
     "text": [
      "220\n"
     ]
    }
   ],
   "source": [
    "#  First merge: meals with recipes\n",
    "meal_to_recipe = pd.merge(\n",
    "    meals_df,\n",
    "    meal_to_recipe_df,\n",
    "    on='meal_id',  # Assuming this is the common field\n",
    "    how='left'       # Keep all meals, even if no recipe match\n",
    ")\n",
    "\n",
    "print(len(meal_to_recipe))\n",
    "\n",
    "# Second merge: recipes with ingredients\n",
    "meal_to_recipe = pd.merge(\n",
    "    meal_to_recipe,\n",
    "    recipes_df,\n",
    "    on='recipe_id',  # Assuming this is the common field\n",
    "    how='left'       # Keep all recipes, even if no ingredient match\n",
    ")\n",
    "\n",
    "# Third merge: recipes with ingredients\n",
    "final_df = pd.merge(\n",
    "    meal_to_recipe,\n",
    "    ingredients_df,\n",
    "    on='recipe_id',  # Assuming this is the common field\n",
    "    how='left'       # Keep all ingredients, even if no ingredient match\n",
    ")\n",
    "\n",
    "# final_df = final_df.drop_duplicates()"
   ]
  },
  {
   "cell_type": "code",
   "execution_count": 37,
   "metadata": {},
   "outputs": [
    {
     "data": {
      "text/plain": [
       "882"
      ]
     },
     "execution_count": 37,
     "metadata": {},
     "output_type": "execute_result"
    }
   ],
   "source": [
    "len(final_df)"
   ]
  },
  {
   "cell_type": "code",
   "execution_count": 38,
   "metadata": {},
   "outputs": [],
   "source": [
    "final_df.to_csv(\"merged.csv\", index=False)"
   ]
  },
  {
   "cell_type": "code",
   "execution_count": 73,
   "metadata": {},
   "outputs": [
    {
     "data": {
      "text/plain": [
       "Index(['meal_id', 'name', 'description', 'status', 'created_at', 'updated_at',\n",
       "       'source', 'video_url', 'recipe_id', 'course', 'cuisine', 'servings',\n",
       "       'calories', 'prep time', 'cook time', 'total time', 'author', 'keyword',\n",
       "       'soaking time', 'marinating time', 'cooling time', 'resting time',\n",
       "       'wait time', 'main_ingredient', 'quantity', 'weight',\n",
       "       'alternative_ingredient', 'measurement'],\n",
       "      dtype='object')"
      ]
     },
     "execution_count": 73,
     "metadata": {},
     "output_type": "execute_result"
    }
   ],
   "source": [
    "final_df.columns"
   ]
  },
  {
   "cell_type": "code",
   "execution_count": 77,
   "metadata": {},
   "outputs": [],
   "source": [
    "# break down the datasets into meals table, recipes table and ingredients table\n",
    "meals = final_df[[\"meal_id\", \"name\", \"description\"]]\n",
    "ingredients = final_df[[\"meal_id\", \"recipe_id\", \"main_ingredient\", \"alternative_ingredient\"]]"
   ]
  },
  {
   "cell_type": "code",
   "execution_count": 79,
   "metadata": {},
   "outputs": [
    {
     "name": "stdout",
     "output_type": "stream",
     "text": [
      "                                  meal_id  \\\n",
      "0    a6213618-a4b0-4b70-a132-a0cf4763bd02   \n",
      "1    a6213618-a4b0-4b70-a132-a0cf4763bd02   \n",
      "2    a6213618-a4b0-4b70-a132-a0cf4763bd02   \n",
      "3    a6213618-a4b0-4b70-a132-a0cf4763bd02   \n",
      "4    a6213618-a4b0-4b70-a132-a0cf4763bd02   \n",
      "..                                    ...   \n",
      "409  34f02b7c-7d18-46c4-abee-ff088272ec6b   \n",
      "410  151e819a-7534-4598-b7f1-4f532670bb98   \n",
      "411  7993b368-d196-4bb4-8766-dd1b94b7f175   \n",
      "412  8fa0abd8-b6d6-4c72-9a11-d1b891b2f09b   \n",
      "413  c258ef0d-0301-469a-bf2c-e85c2a19c641   \n",
      "\n",
      "                                recipe_id     main_ingredient  \\\n",
      "0    2c2703b4-ed39-468d-a09b-4dda480e3bc7           plantains   \n",
      "1    2c2703b4-ed39-468d-a09b-4dda480e3bc7                milk   \n",
      "2    2c2703b4-ed39-468d-a09b-4dda480e3bc7                lime   \n",
      "3    2c2703b4-ed39-468d-a09b-4dda480e3bc7  vanilla bean paste   \n",
      "4    2c2703b4-ed39-468d-a09b-4dda480e3bc7   all purpose flour   \n",
      "..                                    ...                 ...   \n",
      "409  b4d8589f-3948-4e51-a172-e9827403871e                 NaN   \n",
      "410  ce359911-75fa-42a5-8a1f-d9e3f0ce480b                 NaN   \n",
      "411  ada2bd7c-f09e-4581-a6e1-131342da397d                 NaN   \n",
      "412  fbfe493f-23df-4a5b-bb88-9fc1446ea001                 NaN   \n",
      "413  c8b3471d-8f6f-42a3-8b74-3daccc24b3d7                 NaN   \n",
      "\n",
      "    alternative_ingredient  ingredient_id  \n",
      "0                      NaN              1  \n",
      "1         plant-based milk              2  \n",
      "2                                       3  \n",
      "3          vanilla extract              4  \n",
      "4                      NaN              5  \n",
      "..                     ...            ...  \n",
      "409                    NaN            410  \n",
      "410                    NaN            411  \n",
      "411                    NaN            412  \n",
      "412                    NaN            413  \n",
      "413                    NaN            414  \n",
      "\n",
      "[414 rows x 5 columns]\n"
     ]
    },
    {
     "name": "stderr",
     "output_type": "stream",
     "text": [
      "/tmp/ipykernel_4558/2785697564.py:3: SettingWithCopyWarning: \n",
      "A value is trying to be set on a copy of a slice from a DataFrame.\n",
      "Try using .loc[row_indexer,col_indexer] = value instead\n",
      "\n",
      "See the caveats in the documentation: https://pandas.pydata.org/pandas-docs/stable/user_guide/indexing.html#returning-a-view-versus-a-copy\n",
      "  ingredients[\"ingredient_id\"] = range(1, len(ingredients) + 1)\n"
     ]
    }
   ],
   "source": [
    "import uuid\n",
    "\n",
    "ingredients[\"ingredient_id\"] = range(1, len(ingredients) + 1)\n",
    "print(ingredients)\n"
   ]
  },
  {
   "cell_type": "code",
   "execution_count": 42,
   "metadata": {},
   "outputs": [
    {
     "name": "stdout",
     "output_type": "stream",
     "text": [
      "2445 735\n"
     ]
    }
   ],
   "source": [
    "ingredients_cleaned = pd.read_json(DIRTY_INGREDIENTS)\n",
    "ingredients_ai = pd.read_json(INGREDIENTS)\n",
    "\n",
    "print(len(ingredients_cleaned), len(ingredients_ai))"
   ]
  }
 ],
 "metadata": {
  "kernelspec": {
   "display_name": "digest-dub-thpHjbCl-py3.12",
   "language": "python",
   "name": "python3"
  },
  "language_info": {
   "codemirror_mode": {
    "name": "ipython",
    "version": 3
   },
   "file_extension": ".py",
   "mimetype": "text/x-python",
   "name": "python",
   "nbconvert_exporter": "python",
   "pygments_lexer": "ipython3",
   "version": "3.12.3"
  }
 },
 "nbformat": 4,
 "nbformat_minor": 2
}

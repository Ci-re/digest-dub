{
 "cells": [
  {
   "cell_type": "code",
   "execution_count": 2,
   "metadata": {},
   "outputs": [],
   "source": [
    "import pandas as pd\n",
    "import numpy as np\n",
    "import os\n",
    "from typing import DefaultDict\n",
    "\n",
    "PATH = \"../data/processed/final_csvs/\"\n",
    "\n",
    "def load_data():\n",
    "    dataset_dictionary = DefaultDict(pd.DataFrame)\n",
    "    datasets = [\"Meal.csv\", \"Category.csv\", \"Cuisines.csv\", \"Ingredient.csv\", \"CategoryToMeal.csv\", \"Recipe.csv\", \"CuisineToMeal.csv\", \"RecipeIngredient.csv\"]\n",
    "    for data in datasets:\n",
    "        datafile = pd.read_csv(f'{PATH}{data}')\n",
    "        name = data.split(\".\")[0].lower()\n",
    "        dataset_dictionary[name] = datafile\n",
    "    return dataset_dictionary\n",
    "\n",
    "\n",
    "datasets = load_data()"
   ]
  },
  {
   "cell_type": "code",
   "execution_count": 3,
   "metadata": {},
   "outputs": [
    {
     "name": "stdout",
     "output_type": "stream",
     "text": [
      "Index(['meal_id', 'name', 'description', 'cuisines_id', 'category_id',\n",
      "       'recipe_id', 'quantity', 'weight', 'ingredient_id', 'alternativeOfId',\n",
      "       'measurement_index', 'main_ingredient', 'cuisines', 'category'],\n",
      "      dtype='object')\n"
     ]
    }
   ],
   "source": [
    "meal = datasets[\"meal\"][[\"meal_id\", \"name\", \"description\"]]\n",
    "category = datasets[\"category\"]\n",
    "category_to_meal = datasets[\"categorytomeal\"]\n",
    "cuisine = datasets[\"cuisines\"]\n",
    "ingredient = datasets[\"ingredient\"]\n",
    "cusines_to_meal = datasets[\"cuisinetomeal\"]\n",
    "recipeingredient = datasets[\"recipeingredient\"]\n",
    "recipe = datasets[\"recipe\"][[\"recipe_id\", \"meal_id\"]]\n",
    "\n",
    "meal_df = meal.merge(cusines_to_meal, on=\"meal_id\") \\\n",
    "    .merge(category_to_meal, on=\"meal_id\") \\\n",
    "        .merge(recipe, on=\"meal_id\") \\\n",
    "            .merge(recipeingredient, on=\"recipe_id\") \\\n",
    "                .merge(ingredient, on=\"ingredient_id\") \\\n",
    "                    .merge(cuisine, on=\"cuisines_id\") \\\n",
    "                        .merge(category, on=\"category_id\")\n",
    "\n",
    "print(meal_df.columns)"
   ]
  },
  {
   "cell_type": "code",
   "execution_count": 4,
   "metadata": {},
   "outputs": [
    {
     "data": {
      "text/html": [
       "<div>\n",
       "<style scoped>\n",
       "    .dataframe tbody tr th:only-of-type {\n",
       "        vertical-align: middle;\n",
       "    }\n",
       "\n",
       "    .dataframe tbody tr th {\n",
       "        vertical-align: top;\n",
       "    }\n",
       "\n",
       "    .dataframe thead th {\n",
       "        text-align: right;\n",
       "    }\n",
       "</style>\n",
       "<table border=\"1\" class=\"dataframe\">\n",
       "  <thead>\n",
       "    <tr style=\"text-align: right;\">\n",
       "      <th></th>\n",
       "      <th>meal_id</th>\n",
       "      <th>name</th>\n",
       "      <th>description</th>\n",
       "      <th>category</th>\n",
       "      <th>cuisines</th>\n",
       "      <th>main_ingredient</th>\n",
       "    </tr>\n",
       "  </thead>\n",
       "  <tbody>\n",
       "    <tr>\n",
       "      <th>0</th>\n",
       "      <td>a6213618-a4b0-4b70-a132-a0cf4763bd02</td>\n",
       "      <td>Plantain Pancakes with Spicy Maple Syrup and P...</td>\n",
       "      <td>These delicious plantain pancakes are topped o...</td>\n",
       "      <td>Breakfast</td>\n",
       "      <td>West African</td>\n",
       "      <td>plantains</td>\n",
       "    </tr>\n",
       "    <tr>\n",
       "      <th>1</th>\n",
       "      <td>a6213618-a4b0-4b70-a132-a0cf4763bd02</td>\n",
       "      <td>Plantain Pancakes with Spicy Maple Syrup and P...</td>\n",
       "      <td>These delicious plantain pancakes are topped o...</td>\n",
       "      <td>Breakfast</td>\n",
       "      <td>West African</td>\n",
       "      <td>all purpose flour</td>\n",
       "    </tr>\n",
       "    <tr>\n",
       "      <th>2</th>\n",
       "      <td>a6213618-a4b0-4b70-a132-a0cf4763bd02</td>\n",
       "      <td>Plantain Pancakes with Spicy Maple Syrup and P...</td>\n",
       "      <td>These delicious plantain pancakes are topped o...</td>\n",
       "      <td>Breakfast</td>\n",
       "      <td>West African</td>\n",
       "      <td>corn meal</td>\n",
       "    </tr>\n",
       "    <tr>\n",
       "      <th>3</th>\n",
       "      <td>a6213618-a4b0-4b70-a132-a0cf4763bd02</td>\n",
       "      <td>Plantain Pancakes with Spicy Maple Syrup and P...</td>\n",
       "      <td>These delicious plantain pancakes are topped o...</td>\n",
       "      <td>Breakfast</td>\n",
       "      <td>West African</td>\n",
       "      <td>baking soda</td>\n",
       "    </tr>\n",
       "  </tbody>\n",
       "</table>\n",
       "</div>"
      ],
      "text/plain": [
       "                                meal_id  ...    main_ingredient\n",
       "0  a6213618-a4b0-4b70-a132-a0cf4763bd02  ...          plantains\n",
       "1  a6213618-a4b0-4b70-a132-a0cf4763bd02  ...  all purpose flour\n",
       "2  a6213618-a4b0-4b70-a132-a0cf4763bd02  ...          corn meal\n",
       "3  a6213618-a4b0-4b70-a132-a0cf4763bd02  ...        baking soda\n",
       "\n",
       "[4 rows x 6 columns]"
      ]
     },
     "metadata": {},
     "output_type": "display_data"
    },
    {
     "name": "stdout",
     "output_type": "stream",
     "text": [
      "None\n"
     ]
    }
   ],
   "source": [
    "from IPython.display import display\n",
    "\n",
    "meal_df = meal_df[[\"meal_id\", \"name\", \"description\", \"category\", \"cuisines\", \"main_ingredient\"]]\n",
    "print(display(meal_df.head(4)))"
   ]
  },
  {
   "cell_type": "code",
   "execution_count": null,
   "metadata": {},
   "outputs": [
    {
     "data": {
      "text/plain": [
       "33"
      ]
     },
     "execution_count": 5,
     "metadata": {},
     "output_type": "execute_result"
    }
   ],
   "source": [
    "meals_data = meal_df.copy()\n",
    "meals_data = meals_data.fillna(\"\")\n",
    "\n",
    "# Group and aggregate\n",
    "grouped_meals_data = meals_data.groupby(\"meal_id\").agg({\n",
    "    \"name\": \"first\",  # Take the first name for each meal\n",
    "    \"description\": \"first\",\n",
    "    \"category\": lambda x: list(set(x)),  # Get unique categories as a list\n",
    "    \"cuisines\": lambda x: list(set(x)),  # Get unique cuisines as a list\n",
    "    \"main_ingredient\": lambda x: list(set(x))  # Get unique ingredients as a list\n",
    "}).reset_index()\n",
    "\n",
    "grouped_meals_data = grouped_meals_data.drop_duplicates(subset=[\"meal_id\"])\n",
    "len(grouped_meals_data)"
   ]
  },
  {
   "cell_type": "code",
   "execution_count": 6,
   "metadata": {},
   "outputs": [
    {
     "data": {
      "text/html": [
       "<div>\n",
       "<style scoped>\n",
       "    .dataframe tbody tr th:only-of-type {\n",
       "        vertical-align: middle;\n",
       "    }\n",
       "\n",
       "    .dataframe tbody tr th {\n",
       "        vertical-align: top;\n",
       "    }\n",
       "\n",
       "    .dataframe thead th {\n",
       "        text-align: right;\n",
       "    }\n",
       "</style>\n",
       "<table border=\"1\" class=\"dataframe\">\n",
       "  <thead>\n",
       "    <tr style=\"text-align: right;\">\n",
       "      <th></th>\n",
       "      <th>meal_id</th>\n",
       "      <th>name</th>\n",
       "      <th>description</th>\n",
       "      <th>category</th>\n",
       "      <th>cuisines</th>\n",
       "      <th>main_ingredient</th>\n",
       "    </tr>\n",
       "  </thead>\n",
       "  <tbody>\n",
       "    <tr>\n",
       "      <th>0</th>\n",
       "      <td>088136b1-ae27-4d02-a928-d5c89358d525</td>\n",
       "      <td>Plantain Bread Recipe</td>\n",
       "      <td>This delicious vegan plantain bread made with ...</td>\n",
       "      <td>[Breakfast]</td>\n",
       "      <td>[African, European, American, Tropical]</td>\n",
       "      <td>[coconut oil, baking soda, vanilla, Sugar, sal...</td>\n",
       "    </tr>\n",
       "    <tr>\n",
       "      <th>1</th>\n",
       "      <td>24c9b8de-5f13-4a4f-aad2-2bb165df890a</td>\n",
       "      <td>Nigerian Sausage Rolls with Chicken and Pancet...</td>\n",
       "      <td>While traditional Nigerian sausage rolls are m...</td>\n",
       "      <td>[Appetizer, Snack]</td>\n",
       "      <td>[British, Nigerian]</td>\n",
       "      <td>[Bread flour, water, Pancetta, salt, Sugar, On...</td>\n",
       "    </tr>\n",
       "    <tr>\n",
       "      <th>2</th>\n",
       "      <td>2ba7aba9-0be6-4c4c-8a1f-f7c5c2947b80</td>\n",
       "      <td>Afang Soup Recipe</td>\n",
       "      <td>Afang soup, eaten by Efik and Ibibio people of...</td>\n",
       "      <td>[Main Course, Side Dish]</td>\n",
       "      <td>[Nigerian, Cameroonian]</td>\n",
       "      <td>[cayenne pepper, palm oil, Goat meat, Apple sn...</td>\n",
       "    </tr>\n",
       "    <tr>\n",
       "      <th>3</th>\n",
       "      <td>334442c6-348c-4826-ae79-cf784b351583</td>\n",
       "      <td>Garden Egg Stew (Nigerian Eggplant Sauce) Recipe</td>\n",
       "      <td>Garden Egg Stew (also known as aubergine stew ...</td>\n",
       "      <td>[Main Course, Dinner, Lunch]</td>\n",
       "      <td>[West African]</td>\n",
       "      <td>[Plum tomatoes, palm oil, peanut, dried shrimp...</td>\n",
       "    </tr>\n",
       "  </tbody>\n",
       "</table>\n",
       "</div>"
      ],
      "text/plain": [
       "                                meal_id  ...                                    main_ingredient\n",
       "0  088136b1-ae27-4d02-a928-d5c89358d525  ...  [coconut oil, baking soda, vanilla, Sugar, sal...\n",
       "1  24c9b8de-5f13-4a4f-aad2-2bb165df890a  ...  [Bread flour, water, Pancetta, salt, Sugar, On...\n",
       "2  2ba7aba9-0be6-4c4c-8a1f-f7c5c2947b80  ...  [cayenne pepper, palm oil, Goat meat, Apple sn...\n",
       "3  334442c6-348c-4826-ae79-cf784b351583  ...  [Plum tomatoes, palm oil, peanut, dried shrimp...\n",
       "\n",
       "[4 rows x 6 columns]"
      ]
     },
     "metadata": {},
     "output_type": "display_data"
    }
   ],
   "source": [
    "display(grouped_meals_data.head(4))"
   ]
  },
  {
   "cell_type": "code",
   "execution_count": 7,
   "metadata": {},
   "outputs": [
    {
     "data": {
      "text/html": [
       "<div>\n",
       "<style scoped>\n",
       "    .dataframe tbody tr th:only-of-type {\n",
       "        vertical-align: middle;\n",
       "    }\n",
       "\n",
       "    .dataframe tbody tr th {\n",
       "        vertical-align: top;\n",
       "    }\n",
       "\n",
       "    .dataframe thead th {\n",
       "        text-align: right;\n",
       "    }\n",
       "</style>\n",
       "<table border=\"1\" class=\"dataframe\">\n",
       "  <thead>\n",
       "    <tr style=\"text-align: right;\">\n",
       "      <th></th>\n",
       "      <th>meal_id</th>\n",
       "      <th>name</th>\n",
       "      <th>description</th>\n",
       "      <th>category</th>\n",
       "      <th>cuisines</th>\n",
       "      <th>main_ingredient</th>\n",
       "    </tr>\n",
       "  </thead>\n",
       "  <tbody>\n",
       "    <tr>\n",
       "      <th>0</th>\n",
       "      <td>088136b1-ae27-4d02-a928-d5c89358d525</td>\n",
       "      <td>Plantain Bread Recipe</td>\n",
       "      <td>This delicious vegan plantain bread made with ...</td>\n",
       "      <td>Breakfast</td>\n",
       "      <td>African European American Tropical</td>\n",
       "      <td>coconut oil baking soda vanilla Sugar salt Alm...</td>\n",
       "    </tr>\n",
       "    <tr>\n",
       "      <th>1</th>\n",
       "      <td>24c9b8de-5f13-4a4f-aad2-2bb165df890a</td>\n",
       "      <td>Nigerian Sausage Rolls with Chicken and Pancet...</td>\n",
       "      <td>While traditional Nigerian sausage rolls are m...</td>\n",
       "      <td>Appetizer Snack</td>\n",
       "      <td>British Nigerian</td>\n",
       "      <td>Bread flour water Pancetta salt Sugar Onion po...</td>\n",
       "    </tr>\n",
       "    <tr>\n",
       "      <th>2</th>\n",
       "      <td>2ba7aba9-0be6-4c4c-8a1f-f7c5c2947b80</td>\n",
       "      <td>Afang Soup Recipe</td>\n",
       "      <td>Afang soup, eaten by Efik and Ibibio people of...</td>\n",
       "      <td>Main Course Side Dish</td>\n",
       "      <td>Nigerian Cameroonian</td>\n",
       "      <td>cayenne pepper palm oil Goat meat Apple snails...</td>\n",
       "    </tr>\n",
       "    <tr>\n",
       "      <th>3</th>\n",
       "      <td>334442c6-348c-4826-ae79-cf784b351583</td>\n",
       "      <td>Garden Egg Stew (Nigerian Eggplant Sauce) Recipe</td>\n",
       "      <td>Garden Egg Stew (also known as aubergine stew ...</td>\n",
       "      <td>Main Course Dinner Lunch</td>\n",
       "      <td>West African</td>\n",
       "      <td>Plum tomatoes palm oil peanut dried shrimp smo...</td>\n",
       "    </tr>\n",
       "  </tbody>\n",
       "</table>\n",
       "</div>"
      ],
      "text/plain": [
       "                                meal_id  ...                                    main_ingredient\n",
       "0  088136b1-ae27-4d02-a928-d5c89358d525  ...  coconut oil baking soda vanilla Sugar salt Alm...\n",
       "1  24c9b8de-5f13-4a4f-aad2-2bb165df890a  ...  Bread flour water Pancetta salt Sugar Onion po...\n",
       "2  2ba7aba9-0be6-4c4c-8a1f-f7c5c2947b80  ...  cayenne pepper palm oil Goat meat Apple snails...\n",
       "3  334442c6-348c-4826-ae79-cf784b351583  ...  Plum tomatoes palm oil peanut dried shrimp smo...\n",
       "\n",
       "[4 rows x 6 columns]"
      ]
     },
     "metadata": {},
     "output_type": "display_data"
    }
   ],
   "source": [
    "grouped_meals_data[\"cuisines\"] = grouped_meals_data[\"cuisines\"].apply(lambda x: \" \".join(x))\n",
    "grouped_meals_data[\"category\"] = grouped_meals_data[\"category\"].apply(lambda x: \" \".join(x))\n",
    "grouped_meals_data[\"main_ingredient\"] = grouped_meals_data[\"main_ingredient\"].apply(lambda x: \" \".join(x))\n",
    "\n",
    "display(grouped_meals_data.head(4))"
   ]
  },
  {
   "cell_type": "code",
   "execution_count": 8,
   "metadata": {},
   "outputs": [
    {
     "data": {
      "text/html": [
       "<div>\n",
       "<style scoped>\n",
       "    .dataframe tbody tr th:only-of-type {\n",
       "        vertical-align: middle;\n",
       "    }\n",
       "\n",
       "    .dataframe tbody tr th {\n",
       "        vertical-align: top;\n",
       "    }\n",
       "\n",
       "    .dataframe thead th {\n",
       "        text-align: right;\n",
       "    }\n",
       "</style>\n",
       "<table border=\"1\" class=\"dataframe\">\n",
       "  <thead>\n",
       "    <tr style=\"text-align: right;\">\n",
       "      <th></th>\n",
       "      <th>meal_id</th>\n",
       "      <th>features</th>\n",
       "    </tr>\n",
       "  </thead>\n",
       "  <tbody>\n",
       "    <tr>\n",
       "      <th>0</th>\n",
       "      <td>088136b1-ae27-4d02-a928-d5c89358d525</td>\n",
       "      <td>Plantain Bread Recipe This delicious vegan pla...</td>\n",
       "    </tr>\n",
       "    <tr>\n",
       "      <th>1</th>\n",
       "      <td>24c9b8de-5f13-4a4f-aad2-2bb165df890a</td>\n",
       "      <td>Nigerian Sausage Rolls with Chicken and Pancet...</td>\n",
       "    </tr>\n",
       "    <tr>\n",
       "      <th>2</th>\n",
       "      <td>2ba7aba9-0be6-4c4c-8a1f-f7c5c2947b80</td>\n",
       "      <td>Afang Soup Recipe Afang soup, eaten by Efik an...</td>\n",
       "    </tr>\n",
       "    <tr>\n",
       "      <th>3</th>\n",
       "      <td>334442c6-348c-4826-ae79-cf784b351583</td>\n",
       "      <td>Garden Egg Stew (Nigerian Eggplant Sauce) Reci...</td>\n",
       "    </tr>\n",
       "  </tbody>\n",
       "</table>\n",
       "</div>"
      ],
      "text/plain": [
       "                                meal_id                                           features\n",
       "0  088136b1-ae27-4d02-a928-d5c89358d525  Plantain Bread Recipe This delicious vegan pla...\n",
       "1  24c9b8de-5f13-4a4f-aad2-2bb165df890a  Nigerian Sausage Rolls with Chicken and Pancet...\n",
       "2  2ba7aba9-0be6-4c4c-8a1f-f7c5c2947b80  Afang Soup Recipe Afang soup, eaten by Efik an...\n",
       "3  334442c6-348c-4826-ae79-cf784b351583  Garden Egg Stew (Nigerian Eggplant Sauce) Reci..."
      ]
     },
     "execution_count": 8,
     "metadata": {},
     "output_type": "execute_result"
    }
   ],
   "source": [
    "data = grouped_meals_data.copy()\n",
    "\n",
    "data[\"features\"] = data[\"name\"] +  \" \" + data[\"description\"] + \" \" + data[\"category\"] + \" \" + data[\"cuisines\"] + \" \" + data[\"main_ingredient\"]\n",
    "data = data[[\"meal_id\", \"features\"]]\n",
    "data.head(4)"
   ]
  },
  {
   "cell_type": "code",
   "execution_count": 9,
   "metadata": {},
   "outputs": [],
   "source": [
    "data.to_csv(\"../data/processed/final_csvs/meal_features.csv\", index=False)"
   ]
  },
  {
   "cell_type": "code",
   "execution_count": 10,
   "metadata": {},
   "outputs": [],
   "source": [
    "# ! pip install nltk tqdm datasets"
   ]
  },
  {
   "cell_type": "code",
   "execution_count": 11,
   "metadata": {},
   "outputs": [],
   "source": [
    "\n",
    "import nltk\n",
    "from tqdm import tqdm\n",
    "from nltk.corpus import stopwords\n",
    "from nltk.tokenize import word_tokenize\n",
    "from nltk.stem import WordNetLemmatizer\n",
    "from nltk.corpus import wordnet\n",
    "from datasets import Dataset\n",
    "import re\n",
    "\n",
    "# nltk.download('stopwords')\n",
    "# nltk.download('punkt_tab')\n",
    "# nltk.download('wordnet')\n"
   ]
  },
  {
   "cell_type": "code",
   "execution_count": 12,
   "metadata": {},
   "outputs": [
    {
     "name": "stdout",
     "output_type": "stream",
     "text": [
      "{'meal_id': '088136b1-ae27-4d02-a928-d5c89358d525', 'features': 'Plantain Bread Recipe This delicious vegan plantain bread made with sweet plantains contains no eggs or dairy, tastes better than banana bread and is certain to appeal to even non-vegans like me! Breakfast African European American Tropical coconut oil baking soda vanilla Sugar salt Almond Milk whole wheat flour plantain egg replacer powder apple cider vinegar baking powder all purpose flour'}\n"
     ]
    }
   ],
   "source": [
    "data = pd.read_csv(\"../data/processed/final_csvs/meal_features.csv\")\n",
    "dataset = Dataset.from_pandas(data)\n",
    "print(dataset[0])"
   ]
  },
  {
   "cell_type": "code",
   "execution_count": 13,
   "metadata": {},
   "outputs": [
    {
     "data": {
      "application/vnd.jupyter.widget-view+json": {
       "model_id": "e19dd591c13a4009bd545d71c515566c",
       "version_major": 2,
       "version_minor": 0
      },
      "text/plain": [
       "Map:   0%|          | 0/33 [00:00<?, ? examples/s]"
      ]
     },
     "metadata": {},
     "output_type": "display_data"
    },
    {
     "name": "stdout",
     "output_type": "stream",
     "text": [
      "Dataset({\n",
      "    features: ['meal_id', 'features'],\n",
      "    num_rows: 33\n",
      "})\n"
     ]
    }
   ],
   "source": [
    "stop_words = set(stopwords.words('english'))\n",
    "\n",
    "def clean_text(dataset):\n",
    "    text = dataset[\"features\"]\n",
    "    text = text.lower()\n",
    "    text = word_tokenize(text)\n",
    "    text = [word for word in text if word.isalnum()]\n",
    "    text = [word for word in text if re.match(r'^[a-zA-Z0-9]+$', word)]\n",
    "    text = [word for word in text if word not in stop_words]\n",
    "    text = [WordNetLemmatizer().lemmatize(word) for word in text]\n",
    "    dataset[\"features\"] = \" \".join(text)\n",
    "    return dataset\n",
    "\n",
    "dataset = dataset.map(clean_text, batched=False)\n",
    "print(dataset)\n"
   ]
  },
  {
   "cell_type": "code",
   "execution_count": 15,
   "metadata": {},
   "outputs": [
    {
     "data": {
      "application/vnd.jupyter.widget-view+json": {
       "model_id": "bcd4e9285baf42caa2e8fd1e9f7b3648",
       "version_major": 2,
       "version_minor": 0
      },
      "text/plain": [
       "Saving the dataset (0/1 shards):   0%|          | 0/33 [00:00<?, ? examples/s]"
      ]
     },
     "metadata": {},
     "output_type": "display_data"
    }
   ],
   "source": [
    "dataset.save_to_disk(\"../data/processed/dataset\")"
   ]
  },
  {
   "cell_type": "code",
   "execution_count": 16,
   "metadata": {},
   "outputs": [],
   "source": [
    "# ! pip install spacy gensim\n",
    "# ! python3 -m spacy download en_core_web_sm"
   ]
  },
  {
   "cell_type": "code",
   "execution_count": 17,
   "metadata": {},
   "outputs": [],
   "source": [
    "sentence_array = dataset[\"features\"]\n",
    "# sentence_array = sentence_array[:, np.newaxis]\n",
    "# sentence_array = [sent.split() for sentence in sentence_array for sent in sentence]"
   ]
  },
  {
   "cell_type": "code",
   "execution_count": 66,
   "metadata": {},
   "outputs": [],
   "source": [
    "## Implementing tf-idf vectorizer\n",
    "\n",
    "from sklearn.feature_extraction.text import TfidfVectorizer\n",
    "from sklearn.metrics.pairwise import linear_kernel, cosine_similarity\n",
    "\n",
    "vectorizer = TfidfVectorizer(ngram_range=(1, 3), min_df=1, analyzer='word', stop_words='english')\n",
    "meal_tfidf_matrix = vectorizer.fit_transform(raw_documents=sentence_array)\n",
    "matrix_LK = linear_kernel(meal_tfidf_matrix, meal_tfidf_matrix)"
   ]
  },
  {
   "cell_type": "code",
   "execution_count": 132,
   "metadata": {},
   "outputs": [
    {
     "data": {
      "application/vnd.jupyter.widget-view+json": {
       "model_id": "2d52f6620dd64be0ad5b312a70038ebf",
       "version_major": 2,
       "version_minor": 0
      },
      "text/plain": [
       "Map:   0%|          | 0/1 [00:00<?, ? examples/s]"
      ]
     },
     "metadata": {},
     "output_type": "display_data"
    },
    {
     "name": "stdout",
     "output_type": "stream",
     "text": [
      "Dataset({\n",
      "    features: ['features'],\n",
      "    num_rows: 1\n",
      "})\n"
     ]
    }
   ],
   "source": [
    "# Prepare user data\n",
    "\n",
    "indexes = pd.Series(data[\"meal_id\"])\n",
    "\n",
    "user_dict = {\n",
    "    \"category\": [\"breakfast\"],\n",
    "    \"cuisines\": [\"nigerian\"],\n",
    "    \"intollerance\": [\"milk\"],\n",
    "    \"allergies\": [\"pepper\"],\n",
    "    \"preferences\": [\"vegetarian\"]\n",
    "}\n",
    "\n",
    "user_data = pd.DataFrame([user_dict])\n",
    "\n",
    "cols = user_data.columns\n",
    "\n",
    "for col in cols:\n",
    "    if isinstance(user_data[col][0], list):\n",
    "        user_data[col] = user_data[col].apply(lambda x: \" \".join(x))\n",
    "    else:\n",
    "        user_data[col] = user_data[col]\n",
    "\n",
    "user_data[\"features\"] = user_data[\"category\"] + \" \" + user_data[\"cuisines\"] + \" \" + user_data[\"preferences\"]\n",
    "user_data = user_data[[\"features\"]]\n",
    "user_data = Dataset.from_pandas(user_data)\n",
    "user_data = user_data.map(clean_text, batched=False)\n",
    "print(user_data)\n"
   ]
  },
  {
   "cell_type": "code",
   "execution_count": 133,
   "metadata": {},
   "outputs": [],
   "source": [
    "user_content = user_data[\"features\"]\n",
    "user_tfidf_matrix = vectorizer.transform(user_content)\n",
    "user_LK = cosine_similarity(user_tfidf_matrix, meal_tfidf_matrix).flatten()"
   ]
  },
  {
   "cell_type": "code",
   "execution_count": 134,
   "metadata": {},
   "outputs": [
    {
     "data": {
      "text/plain": [
       "{'category': ['breakfast'],\n",
       " 'cuisines': ['nigerian'],\n",
       " 'intollerance': ['milk'],\n",
       " 'allergies': ['pepper'],\n",
       " 'preferences': ['vegetarian']}"
      ]
     },
     "execution_count": 134,
     "metadata": {},
     "output_type": "execute_result"
    }
   ],
   "source": [
    "user_dict"
   ]
  },
  {
   "cell_type": "code",
   "execution_count": 136,
   "metadata": {},
   "outputs": [
    {
     "data": {
      "text/html": [
       "<div>\n",
       "<style scoped>\n",
       "    .dataframe tbody tr th:only-of-type {\n",
       "        vertical-align: middle;\n",
       "    }\n",
       "\n",
       "    .dataframe tbody tr th {\n",
       "        vertical-align: top;\n",
       "    }\n",
       "\n",
       "    .dataframe thead th {\n",
       "        text-align: right;\n",
       "    }\n",
       "</style>\n",
       "<table border=\"1\" class=\"dataframe\">\n",
       "  <thead>\n",
       "    <tr style=\"text-align: right;\">\n",
       "      <th></th>\n",
       "      <th>meal_id</th>\n",
       "      <th>cosine_similarity</th>\n",
       "      <th>name</th>\n",
       "      <th>description</th>\n",
       "      <th>category</th>\n",
       "      <th>cuisines</th>\n",
       "      <th>main_ingredient</th>\n",
       "    </tr>\n",
       "  </thead>\n",
       "  <tbody>\n",
       "    <tr>\n",
       "      <th>0</th>\n",
       "      <td>456099e2-0242-4462-8a50-49398ade9cf6</td>\n",
       "      <td>0.187940</td>\n",
       "      <td>Fonio Porridge/Acha Pudding: A Super-Grain Bre...</td>\n",
       "      <td>Fonio is a gluten-free, nutritious, super grai...</td>\n",
       "      <td>Breakfast</td>\n",
       "      <td>West African Senegalese Nigerian</td>\n",
       "      <td>Fonio maple syrup salt Fruit of Choice Almond ...</td>\n",
       "    </tr>\n",
       "    <tr>\n",
       "      <th>1</th>\n",
       "      <td>475bc30d-ed44-40f0-b269-db797df2f5b4</td>\n",
       "      <td>0.099480</td>\n",
       "      <td>Nigerian Akara Recipe</td>\n",
       "      <td>Akara (Accara) are tasty, deep fried, Nigerian...</td>\n",
       "      <td>Breakfast Lunch Main Course Brunch Dinner</td>\n",
       "      <td>West African Indian Nigerian</td>\n",
       "      <td>black eyed peas scotch bonnet red onion salt O...</td>\n",
       "    </tr>\n",
       "    <tr>\n",
       "      <th>2</th>\n",
       "      <td>61a63ff5-82ad-4d9a-b683-95f7a6f7db41</td>\n",
       "      <td>0.063584</td>\n",
       "      <td>Nigerian Tomato Stew (Nigerian Red Stew) Recipe</td>\n",
       "      <td>This Nigerian red stew recipe features my favo...</td>\n",
       "      <td>Main Course Dinner Lunch</td>\n",
       "      <td>Nigerian</td>\n",
       "      <td>Plum tomatoes ginger Curry powder Scotch bonne...</td>\n",
       "    </tr>\n",
       "    <tr>\n",
       "      <th>3</th>\n",
       "      <td>088136b1-ae27-4d02-a928-d5c89358d525</td>\n",
       "      <td>0.053085</td>\n",
       "      <td>Plantain Bread Recipe</td>\n",
       "      <td>This delicious vegan plantain bread made with ...</td>\n",
       "      <td>Breakfast</td>\n",
       "      <td>African European American Tropical</td>\n",
       "      <td>coconut oil baking soda vanilla Sugar salt Alm...</td>\n",
       "    </tr>\n",
       "    <tr>\n",
       "      <th>4</th>\n",
       "      <td>8a136ed1-2798-4971-b825-9f05a0767046</td>\n",
       "      <td>0.047404</td>\n",
       "      <td>Nigerian Chapman Drink Recipe</td>\n",
       "      <td>Nigeria's favorite non-alcoholic cocktail, thi...</td>\n",
       "      <td>Drinks</td>\n",
       "      <td>Nigerian</td>\n",
       "      <td>cucumber limeade orange juice lemon grapefruit...</td>\n",
       "    </tr>\n",
       "    <tr>\n",
       "      <th>5</th>\n",
       "      <td>97186000-4e0a-4cf0-bea6-14764512c816</td>\n",
       "      <td>0.043425</td>\n",
       "      <td>Groundnut Soup Recipe (Spicy Nigerian Peanut S...</td>\n",
       "      <td>Groundnut soup (also called peanut stew) is a ...</td>\n",
       "      <td>Main Course</td>\n",
       "      <td>Nigerian</td>\n",
       "      <td>dried shrimp powder palm oil scotch bonnet Goa...</td>\n",
       "    </tr>\n",
       "    <tr>\n",
       "      <th>6</th>\n",
       "      <td>e987ff61-7647-4f08-9fc2-2837692680ed</td>\n",
       "      <td>0.032582</td>\n",
       "      <td>How to Make Ofada Stew (Nigerian Ofada Sauce r...</td>\n",
       "      <td>In this ofada sauce recipe, I share how to mak...</td>\n",
       "      <td>Main Course</td>\n",
       "      <td>West African Nigerian</td>\n",
       "      <td>Iru palm oil Goat meat salt Scotch bonnet pepp...</td>\n",
       "    </tr>\n",
       "    <tr>\n",
       "      <th>7</th>\n",
       "      <td>beffc339-9f81-442c-8eb7-e2af48c5f232</td>\n",
       "      <td>0.023840</td>\n",
       "      <td>Seafood Beniseed Soup</td>\n",
       "      <td>Beniseed or sesame seed, whichever name you ch...</td>\n",
       "      <td>Main Course</td>\n",
       "      <td>Nigerian</td>\n",
       "      <td>Plum tomatoes palm oil shrimp bullion salt sea...</td>\n",
       "    </tr>\n",
       "    <tr>\n",
       "      <th>8</th>\n",
       "      <td>6ea2ead0-1dd7-47f0-af16-4aa24d84e4cc</td>\n",
       "      <td>0.015694</td>\n",
       "      <td>An Egusi Stew Alternative: Nigerian Almond Stew</td>\n",
       "      <td>I thought since Egusi stew requires melon seed...</td>\n",
       "      <td></td>\n",
       "      <td></td>\n",
       "      <td>palm oil habanero almonds broth salt flaked sm...</td>\n",
       "    </tr>\n",
       "    <tr>\n",
       "      <th>9</th>\n",
       "      <td>4b772492-5cad-43bc-b3c1-15c468dc3087</td>\n",
       "      <td>0.014718</td>\n",
       "      <td>Recipe for a Stable and Flaky Meat Pie Crust</td>\n",
       "      <td>After countless trials, I can finally present ...</td>\n",
       "      <td>Snack</td>\n",
       "      <td>British Global Nigerian</td>\n",
       "      <td>All-purpose flour Bread flour water Sugar butt...</td>\n",
       "    </tr>\n",
       "    <tr>\n",
       "      <th>10</th>\n",
       "      <td>36aa84d9-9284-457c-9799-fba7e2699a6e</td>\n",
       "      <td>0.012705</td>\n",
       "      <td>Edikaikong Soup Recipe (Edikang Ikong Soup)</td>\n",
       "      <td>Edikang Ikong Soup is a highly nutritious, del...</td>\n",
       "      <td>Main Course</td>\n",
       "      <td>Nigerian</td>\n",
       "      <td>palm oil Malabar Spinach Goat meat Apple snail...</td>\n",
       "    </tr>\n",
       "    <tr>\n",
       "      <th>11</th>\n",
       "      <td>b3300f0e-1174-478a-a9e2-e52b1f8196f8</td>\n",
       "      <td>0.012687</td>\n",
       "      <td>Zobo Drink (Sobolo/Bissap Juice): African Hibi...</td>\n",
       "      <td>Zobo drink, a sweet hibiscus/sorrel drink (als...</td>\n",
       "      <td>Drinks</td>\n",
       "      <td>West African caribbean Ghanaian Nigerian</td>\n",
       "      <td>ginger water Sugar red sorrel buds pineapple a...</td>\n",
       "    </tr>\n",
       "    <tr>\n",
       "      <th>12</th>\n",
       "      <td>9b383ddd-d639-4cb8-beed-f6e16e8697cf</td>\n",
       "      <td>0.000000</td>\n",
       "      <td>How to Braise Meat Properly for West African S...</td>\n",
       "      <td>Here's a little deep dive into how to braise m...</td>\n",
       "      <td></td>\n",
       "      <td></td>\n",
       "      <td>water Goat meat salt Scotch bonnet peppers onion</td>\n",
       "    </tr>\n",
       "    <tr>\n",
       "      <th>13</th>\n",
       "      <td>65bfb727-1146-4a77-bdd0-43b5f58a21eb</td>\n",
       "      <td>0.000000</td>\n",
       "      <td>How to Make Coconut Milk from Fresh Coconut</td>\n",
       "      <td>Nothing quite compares to the taste of coconut...</td>\n",
       "      <td></td>\n",
       "      <td>Tropical</td>\n",
       "      <td>water coconut</td>\n",
       "    </tr>\n",
       "  </tbody>\n",
       "</table>\n",
       "</div>"
      ],
      "text/plain": [
       "                                 meal_id  ...                                    main_ingredient\n",
       "0   456099e2-0242-4462-8a50-49398ade9cf6  ...  Fonio maple syrup salt Fruit of Choice Almond ...\n",
       "1   475bc30d-ed44-40f0-b269-db797df2f5b4  ...  black eyed peas scotch bonnet red onion salt O...\n",
       "2   61a63ff5-82ad-4d9a-b683-95f7a6f7db41  ...  Plum tomatoes ginger Curry powder Scotch bonne...\n",
       "3   088136b1-ae27-4d02-a928-d5c89358d525  ...  coconut oil baking soda vanilla Sugar salt Alm...\n",
       "4   8a136ed1-2798-4971-b825-9f05a0767046  ...  cucumber limeade orange juice lemon grapefruit...\n",
       "5   97186000-4e0a-4cf0-bea6-14764512c816  ...  dried shrimp powder palm oil scotch bonnet Goa...\n",
       "6   e987ff61-7647-4f08-9fc2-2837692680ed  ...  Iru palm oil Goat meat salt Scotch bonnet pepp...\n",
       "7   beffc339-9f81-442c-8eb7-e2af48c5f232  ...  Plum tomatoes palm oil shrimp bullion salt sea...\n",
       "8   6ea2ead0-1dd7-47f0-af16-4aa24d84e4cc  ...  palm oil habanero almonds broth salt flaked sm...\n",
       "9   4b772492-5cad-43bc-b3c1-15c468dc3087  ...  All-purpose flour Bread flour water Sugar butt...\n",
       "10  36aa84d9-9284-457c-9799-fba7e2699a6e  ...  palm oil Malabar Spinach Goat meat Apple snail...\n",
       "11  b3300f0e-1174-478a-a9e2-e52b1f8196f8  ...  ginger water Sugar red sorrel buds pineapple a...\n",
       "12  9b383ddd-d639-4cb8-beed-f6e16e8697cf  ...   water Goat meat salt Scotch bonnet peppers onion\n",
       "13  65bfb727-1146-4a77-bdd0-43b5f58a21eb  ...                                      water coconut\n",
       "\n",
       "[14 rows x 7 columns]"
      ]
     },
     "execution_count": 136,
     "metadata": {},
     "output_type": "execute_result"
    }
   ],
   "source": [
    "user_intolerances = set(user_dict[\"intollerance\"][0].split())\n",
    "user_allergies = set(user_dict[\"allergies\"][0].split())\n",
    "\n",
    "def contains_restricted(ingredients, restricted_set):\n",
    "    \"\"\"Check if any restricted item is present in the ingredients.\"\"\"\n",
    "    ingredients_set = set(ingredients.split())  # Assuming ingredients are space-separated\n",
    "    return bool(ingredients_set & restricted_set)\n",
    "\n",
    "filtered_meals = grouped_meals_data[~grouped_meals_data[\"main_ingredient\"].apply(contains_restricted, args=(user_intolerances | user_allergies,))]\n",
    "meal_rec = pd.DataFrame({\"meal_id\": indexes, \"cosine_similarity\": user_LK})\n",
    "meal_rec = meal_rec.sort_values(by=\"cosine_similarity\", ascending=False)\n",
    "\n",
    "meal_rec = meal_rec.merge(filtered_meals, on=\"meal_id\")\n",
    "meal_rec\n"
   ]
  }
 ],
 "metadata": {
  "kernelspec": {
   "display_name": "digest-dub-thpHjbCl-py3.12",
   "language": "python",
   "name": "python3"
  },
  "language_info": {
   "codemirror_mode": {
    "name": "ipython",
    "version": 3
   },
   "file_extension": ".py",
   "mimetype": "text/x-python",
   "name": "python",
   "nbconvert_exporter": "python",
   "pygments_lexer": "ipython3",
   "version": "3.12.3"
  }
 },
 "nbformat": 4,
 "nbformat_minor": 2
}

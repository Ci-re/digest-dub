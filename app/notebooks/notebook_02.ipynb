{
 "cells": [
  {
   "cell_type": "code",
   "execution_count": 1,
   "metadata": {},
   "outputs": [
    {
     "name": "stdout",
     "output_type": "stream",
     "text": [
      "🔃 Connecting\n",
      "✅ Connected to pg server\n"
     ]
    }
   ],
   "source": [
    "from datetime import datetime\n",
    "import uuid\n",
    "import pandas as pd\n",
    "from sqlalchemy.orm import sessionmaker\n",
    "from sqlalchemy import MetaData\n",
    "import numpy as np\n",
    "from app.database.queries import insert_data\n",
    "from typing import List, Dict\n",
    "import logging\n",
    "import logging\n",
    "from typing import Dict, List\n",
    "from sqlalchemy import MetaData\n",
    "from sqlalchemy import text\n",
    "from sqlalchemy.orm import sessionmaker\n",
    "from app.database.connect import dbconnect"
   ]
  },
  {
   "cell_type": "code",
   "execution_count": 2,
   "metadata": {},
   "outputs": [],
   "source": [
    "logger = logging.getLogger(__name__)  # Use a named logger"
   ]
  },
  {
   "cell_type": "code",
   "execution_count": 3,
   "metadata": {},
   "outputs": [],
   "source": [
    "logging.basicConfig(level=logging.INFO)\n",
    "RECIPE = \"../../app/data/processed/recipe_cleaned.json\"\n",
    "INGREDIENTS = \"../../app/data/processed/ingredients_AI.json\"\n",
    "MEAL = \"../../app/data/processed/meal_cleaned.json\"\n",
    "MEALTORECIPE = \"../../app/data/processed/mealtorecipe.json\" "
   ]
  },
  {
   "cell_type": "code",
   "execution_count": 4,
   "metadata": {},
   "outputs": [
    {
     "name": "stderr",
     "output_type": "stream",
     "text": [
      "INFO:__main__:PREPARING DATA\n"
     ]
    },
    {
     "data": {
      "text/html": [
       "<div>\n",
       "<style scoped>\n",
       "    .dataframe tbody tr th:only-of-type {\n",
       "        vertical-align: middle;\n",
       "    }\n",
       "\n",
       "    .dataframe tbody tr th {\n",
       "        vertical-align: top;\n",
       "    }\n",
       "\n",
       "    .dataframe thead th {\n",
       "        text-align: right;\n",
       "    }\n",
       "</style>\n",
       "<table border=\"1\" class=\"dataframe\">\n",
       "  <thead>\n",
       "    <tr style=\"text-align: right;\">\n",
       "      <th></th>\n",
       "      <th>meal_id</th>\n",
       "      <th>name</th>\n",
       "      <th>description</th>\n",
       "      <th>created_at</th>\n",
       "      <th>source</th>\n",
       "      <th>rating</th>\n",
       "      <th>votes</th>\n",
       "    </tr>\n",
       "  </thead>\n",
       "  <tbody>\n",
       "    <tr>\n",
       "      <th>0</th>\n",
       "      <td>a6213618-a4b0-4b70-a132-a0cf4763bd02</td>\n",
       "      <td>Plantain Pancakes with Spicy Maple Syrup and P...</td>\n",
       "      <td>These delicious plantain pancakes are topped o...</td>\n",
       "      <td>2024-09-25 00:03:22</td>\n",
       "      <td>https://www.yummymedley.com/plantain-pancakes-...</td>\n",
       "      <td>0.0</td>\n",
       "      <td>0</td>\n",
       "    </tr>\n",
       "    <tr>\n",
       "      <th>1</th>\n",
       "      <td>2ba7aba9-0be6-4c4c-8a1f-f7c5c2947b80</td>\n",
       "      <td>Afang Soup Recipe</td>\n",
       "      <td>Afang soup, eaten by Efik and Ibibio people of...</td>\n",
       "      <td>2024-09-25 00:03:23</td>\n",
       "      <td>https://www.yummymedley.com/nigerian-afang-soup/</td>\n",
       "      <td>5.0</td>\n",
       "      <td>8</td>\n",
       "    </tr>\n",
       "    <tr>\n",
       "      <th>2</th>\n",
       "      <td>456099e2-0242-4462-8a50-49398ade9cf6</td>\n",
       "      <td>Fonio Porridge/Acha Pudding: A Super-Grain Bre...</td>\n",
       "      <td>Fonio is a gluten-free, nutritious, super grai...</td>\n",
       "      <td>2024-09-25 00:03:24</td>\n",
       "      <td>https://www.yummymedley.com/fonio-porridge-ach...</td>\n",
       "      <td>5.0</td>\n",
       "      <td>1</td>\n",
       "    </tr>\n",
       "    <tr>\n",
       "      <th>3</th>\n",
       "      <td>6d50d4e7-dc64-47e3-8871-c848fe0240fc</td>\n",
       "      <td>Mixed Seafood Coconut Fried Rice Recipe</td>\n",
       "      <td>In this delicious mixed seafood coconut fried ...</td>\n",
       "      <td>2024-09-25 00:03:25</td>\n",
       "      <td>https://www.yummymedley.com/fishermans-fried-r...</td>\n",
       "      <td>5.0</td>\n",
       "      <td>11</td>\n",
       "    </tr>\n",
       "    <tr>\n",
       "      <th>4</th>\n",
       "      <td>82d85396-2e38-4802-99e4-f3d405cd7304</td>\n",
       "      <td>Peppered Snail Recipe</td>\n",
       "      <td>The spicy, chewy goodness of peppered snail co...</td>\n",
       "      <td>2024-09-25 00:03:26</td>\n",
       "      <td>https://www.yummymedley.com/peppered-snail/</td>\n",
       "      <td>5.0</td>\n",
       "      <td>4</td>\n",
       "    </tr>\n",
       "  </tbody>\n",
       "</table>\n",
       "</div>"
      ],
      "text/plain": [
       "                                meal_id  \\\n",
       "0  a6213618-a4b0-4b70-a132-a0cf4763bd02   \n",
       "1  2ba7aba9-0be6-4c4c-8a1f-f7c5c2947b80   \n",
       "2  456099e2-0242-4462-8a50-49398ade9cf6   \n",
       "3  6d50d4e7-dc64-47e3-8871-c848fe0240fc   \n",
       "4  82d85396-2e38-4802-99e4-f3d405cd7304   \n",
       "\n",
       "                                                name  \\\n",
       "0  Plantain Pancakes with Spicy Maple Syrup and P...   \n",
       "1                                  Afang Soup Recipe   \n",
       "2  Fonio Porridge/Acha Pudding: A Super-Grain Bre...   \n",
       "3            Mixed Seafood Coconut Fried Rice Recipe   \n",
       "4                              Peppered Snail Recipe   \n",
       "\n",
       "                                         description          created_at  \\\n",
       "0  These delicious plantain pancakes are topped o... 2024-09-25 00:03:22   \n",
       "1  Afang soup, eaten by Efik and Ibibio people of... 2024-09-25 00:03:23   \n",
       "2  Fonio is a gluten-free, nutritious, super grai... 2024-09-25 00:03:24   \n",
       "3  In this delicious mixed seafood coconut fried ... 2024-09-25 00:03:25   \n",
       "4  The spicy, chewy goodness of peppered snail co... 2024-09-25 00:03:26   \n",
       "\n",
       "                                              source  rating  votes  \n",
       "0  https://www.yummymedley.com/plantain-pancakes-...     0.0      0  \n",
       "1   https://www.yummymedley.com/nigerian-afang-soup/     5.0      8  \n",
       "2  https://www.yummymedley.com/fonio-porridge-ach...     5.0      1  \n",
       "3  https://www.yummymedley.com/fishermans-fried-r...     5.0     11  \n",
       "4        https://www.yummymedley.com/peppered-snail/     5.0      4  "
      ]
     },
     "execution_count": 4,
     "metadata": {},
     "output_type": "execute_result"
    }
   ],
   "source": [
    "logger.info(\"PREPARING DATA\")\n",
    "data: pd.DataFrame = pd.read_json(MEAL)\n",
    "data = data.replace({np.nan: None, '': None, ' ': None})\n",
    "data.head()"
   ]
  },
  {
   "cell_type": "code",
   "execution_count": 5,
   "metadata": {},
   "outputs": [],
   "source": [
    "data[\"updated_at\"] = data[\"created_at\"]\n",
    "data = data.rename(columns={\"meal_id\": \"id\"})"
   ]
  },
  {
   "cell_type": "code",
   "execution_count": 6,
   "metadata": {},
   "outputs": [],
   "source": [
    "data[\"status\"] = \"PUBLISHED\"\n",
    "data[\"video_url\"] = \"Not Available\""
   ]
  },
  {
   "cell_type": "code",
   "execution_count": 7,
   "metadata": {},
   "outputs": [
    {
     "data": {
      "text/plain": [
       "220"
      ]
     },
     "execution_count": 7,
     "metadata": {},
     "output_type": "execute_result"
    }
   ],
   "source": [
    "data = data[[\"id\", \"name\", \"description\", \"status\", \"created_at\", \"updated_at\", \"source\", \"video_url\"]]\n",
    "len(data)"
   ]
  },
  {
   "cell_type": "code",
   "execution_count": 8,
   "metadata": {},
   "outputs": [],
   "source": [
    "df_cleaned = data.drop_duplicates(subset='name', keep='first')\n",
    "df_cleaned = df_cleaned.reset_index().drop(columns=\"index\")"
   ]
  },
  {
   "cell_type": "code",
   "execution_count": 9,
   "metadata": {},
   "outputs": [],
   "source": [
    "data = df_cleaned.copy()\n",
    "data_dict = data.to_dict(orient='records')"
   ]
  },
  {
   "cell_type": "code",
   "execution_count": 10,
   "metadata": {},
   "outputs": [],
   "source": [
    "# insert_data(data=data_dict, schema=\"Meal\")"
   ]
  },
  {
   "cell_type": "code",
   "execution_count": 11,
   "metadata": {},
   "outputs": [
    {
     "data": {
      "text/html": [
       "<div>\n",
       "<style scoped>\n",
       "    .dataframe tbody tr th:only-of-type {\n",
       "        vertical-align: middle;\n",
       "    }\n",
       "\n",
       "    .dataframe tbody tr th {\n",
       "        vertical-align: top;\n",
       "    }\n",
       "\n",
       "    .dataframe thead th {\n",
       "        text-align: right;\n",
       "    }\n",
       "</style>\n",
       "<table border=\"1\" class=\"dataframe\">\n",
       "  <thead>\n",
       "    <tr style=\"text-align: right;\">\n",
       "      <th></th>\n",
       "      <th>meal_id</th>\n",
       "      <th>recipe_id</th>\n",
       "    </tr>\n",
       "  </thead>\n",
       "  <tbody>\n",
       "    <tr>\n",
       "      <th>0</th>\n",
       "      <td>a6213618-a4b0-4b70-a132-a0cf4763bd02</td>\n",
       "      <td>2c2703b4-ed39-468d-a09b-4dda480e3bc7</td>\n",
       "    </tr>\n",
       "    <tr>\n",
       "      <th>1</th>\n",
       "      <td>2ba7aba9-0be6-4c4c-8a1f-f7c5c2947b80</td>\n",
       "      <td>099498aa-d5d1-4be5-be81-8525014cd5da</td>\n",
       "    </tr>\n",
       "    <tr>\n",
       "      <th>2</th>\n",
       "      <td>456099e2-0242-4462-8a50-49398ade9cf6</td>\n",
       "      <td>9534b335-0657-4da0-abc7-c2a58272f25a</td>\n",
       "    </tr>\n",
       "  </tbody>\n",
       "</table>\n",
       "</div>"
      ],
      "text/plain": [
       "                                meal_id                             recipe_id\n",
       "0  a6213618-a4b0-4b70-a132-a0cf4763bd02  2c2703b4-ed39-468d-a09b-4dda480e3bc7\n",
       "1  2ba7aba9-0be6-4c4c-8a1f-f7c5c2947b80  099498aa-d5d1-4be5-be81-8525014cd5da\n",
       "2  456099e2-0242-4462-8a50-49398ade9cf6  9534b335-0657-4da0-abc7-c2a58272f25a"
      ]
     },
     "execution_count": 11,
     "metadata": {},
     "output_type": "execute_result"
    }
   ],
   "source": [
    "meal_to_recipe = pd.read_json(MEALTORECIPE)\n",
    "meal_to_recipe.head(3)"
   ]
  },
  {
   "cell_type": "code",
   "execution_count": 12,
   "metadata": {},
   "outputs": [
    {
     "data": {
      "text/html": [
       "<div>\n",
       "<style scoped>\n",
       "    .dataframe tbody tr th:only-of-type {\n",
       "        vertical-align: middle;\n",
       "    }\n",
       "\n",
       "    .dataframe tbody tr th {\n",
       "        vertical-align: top;\n",
       "    }\n",
       "\n",
       "    .dataframe thead th {\n",
       "        text-align: right;\n",
       "    }\n",
       "</style>\n",
       "<table border=\"1\" class=\"dataframe\">\n",
       "  <thead>\n",
       "    <tr style=\"text-align: right;\">\n",
       "      <th></th>\n",
       "      <th>A</th>\n",
       "      <th>B</th>\n",
       "    </tr>\n",
       "  </thead>\n",
       "  <tbody>\n",
       "    <tr>\n",
       "      <th>0</th>\n",
       "      <td>a6213618-a4b0-4b70-a132-a0cf4763bd02</td>\n",
       "      <td>2c2703b4-ed39-468d-a09b-4dda480e3bc7</td>\n",
       "    </tr>\n",
       "    <tr>\n",
       "      <th>1</th>\n",
       "      <td>2ba7aba9-0be6-4c4c-8a1f-f7c5c2947b80</td>\n",
       "      <td>099498aa-d5d1-4be5-be81-8525014cd5da</td>\n",
       "    </tr>\n",
       "    <tr>\n",
       "      <th>2</th>\n",
       "      <td>456099e2-0242-4462-8a50-49398ade9cf6</td>\n",
       "      <td>9534b335-0657-4da0-abc7-c2a58272f25a</td>\n",
       "    </tr>\n",
       "    <tr>\n",
       "      <th>3</th>\n",
       "      <td>6d50d4e7-dc64-47e3-8871-c848fe0240fc</td>\n",
       "      <td>8d378ba0-3b46-4a23-b349-a1a183bbc4ec</td>\n",
       "    </tr>\n",
       "    <tr>\n",
       "      <th>4</th>\n",
       "      <td>82d85396-2e38-4802-99e4-f3d405cd7304</td>\n",
       "      <td>ac3857b2-7a42-4e88-af04-35361b550f2b</td>\n",
       "    </tr>\n",
       "  </tbody>\n",
       "</table>\n",
       "</div>"
      ],
      "text/plain": [
       "                                      A                                     B\n",
       "0  a6213618-a4b0-4b70-a132-a0cf4763bd02  2c2703b4-ed39-468d-a09b-4dda480e3bc7\n",
       "1  2ba7aba9-0be6-4c4c-8a1f-f7c5c2947b80  099498aa-d5d1-4be5-be81-8525014cd5da\n",
       "2  456099e2-0242-4462-8a50-49398ade9cf6  9534b335-0657-4da0-abc7-c2a58272f25a\n",
       "3  6d50d4e7-dc64-47e3-8871-c848fe0240fc  8d378ba0-3b46-4a23-b349-a1a183bbc4ec\n",
       "4  82d85396-2e38-4802-99e4-f3d405cd7304  ac3857b2-7a42-4e88-af04-35361b550f2b"
      ]
     },
     "execution_count": 12,
     "metadata": {},
     "output_type": "execute_result"
    }
   ],
   "source": [
    "filtered_df = meal_to_recipe[meal_to_recipe['meal_id'].isin(df_cleaned['id'])]\n",
    "recipe_to_meal = filtered_df.rename(columns={\"meal_id\": \"A\", \"recipe_id\": \"B\"})\n",
    "recipe_to_meal.head()"
   ]
  },
  {
   "cell_type": "code",
   "execution_count": 13,
   "metadata": {},
   "outputs": [],
   "source": [
    "data_rm = recipe_to_meal.copy()\n",
    "data_dict = data_rm.to_dict(orient='records')\n",
    "# insert_data(data=data_dict, schema=\"_MealToRecipe\")"
   ]
  },
  {
   "cell_type": "code",
   "execution_count": null,
   "metadata": {},
   "outputs": [],
   "source": []
  },
  {
   "cell_type": "code",
   "execution_count": null,
   "metadata": {},
   "outputs": [
    {
     "data": {
      "text/html": [
       "<div>\n",
       "<style scoped>\n",
       "    .dataframe tbody tr th:only-of-type {\n",
       "        vertical-align: middle;\n",
       "    }\n",
       "\n",
       "    .dataframe tbody tr th {\n",
       "        vertical-align: top;\n",
       "    }\n",
       "\n",
       "    .dataframe thead th {\n",
       "        text-align: right;\n",
       "    }\n",
       "</style>\n",
       "<table border=\"1\" class=\"dataframe\">\n",
       "  <thead>\n",
       "    <tr style=\"text-align: right;\">\n",
       "      <th></th>\n",
       "      <th>meal_type</th>\n",
       "      <th>recipe_id</th>\n",
       "      <th>alternative_meal_type</th>\n",
       "      <th>category</th>\n",
       "      <th>course_type</th>\n",
       "    </tr>\n",
       "  </thead>\n",
       "  <tbody>\n",
       "    <tr>\n",
       "      <th>0</th>\n",
       "      <td>breakfast</td>\n",
       "      <td>2c2703b4-ed39-468d-a09b-4dda480e3bc7</td>\n",
       "      <td>NaN</td>\n",
       "      <td>NaN</td>\n",
       "      <td>NaN</td>\n",
       "    </tr>\n",
       "    <tr>\n",
       "      <th>1</th>\n",
       "      <td></td>\n",
       "      <td>099498aa-d5d1-4be5-be81-8525014cd5da</td>\n",
       "      <td></td>\n",
       "      <td></td>\n",
       "      <td>Main Course, Side Dish</td>\n",
       "    </tr>\n",
       "    <tr>\n",
       "      <th>2</th>\n",
       "      <td>breakfast</td>\n",
       "      <td>9534b335-0657-4da0-abc7-c2a58272f25a</td>\n",
       "      <td>NaN</td>\n",
       "      <td>NaN</td>\n",
       "      <td>NaN</td>\n",
       "    </tr>\n",
       "    <tr>\n",
       "      <th>3</th>\n",
       "      <td>dinner</td>\n",
       "      <td>8d378ba0-3b46-4a23-b349-a1a183bbc4ec</td>\n",
       "      <td>NaN</td>\n",
       "      <td>NaN</td>\n",
       "      <td>NaN</td>\n",
       "    </tr>\n",
       "    <tr>\n",
       "      <th>4</th>\n",
       "      <td></td>\n",
       "      <td>ac3857b2-7a42-4e88-af04-35361b550f2b</td>\n",
       "      <td></td>\n",
       "      <td></td>\n",
       "      <td>Appetizer</td>\n",
       "    </tr>\n",
       "    <tr>\n",
       "      <th>...</th>\n",
       "      <td>...</td>\n",
       "      <td>...</td>\n",
       "      <td>...</td>\n",
       "      <td>...</td>\n",
       "      <td>...</td>\n",
       "    </tr>\n",
       "    <tr>\n",
       "      <th>143</th>\n",
       "      <td>lunch/dinner</td>\n",
       "      <td>b4d8589f-3948-4e51-a172-e9827403871e</td>\n",
       "      <td>NaN</td>\n",
       "      <td>NaN</td>\n",
       "      <td>NaN</td>\n",
       "    </tr>\n",
       "    <tr>\n",
       "      <th>144</th>\n",
       "      <td>Soup</td>\n",
       "      <td>ce359911-75fa-42a5-8a1f-d9e3f0ce480b</td>\n",
       "      <td></td>\n",
       "      <td>Appetizer</td>\n",
       "      <td>Side Dish</td>\n",
       "    </tr>\n",
       "    <tr>\n",
       "      <th>145</th>\n",
       "      <td>snack</td>\n",
       "      <td>ada2bd7c-f09e-4581-a6e1-131342da397d</td>\n",
       "      <td>NaN</td>\n",
       "      <td>NaN</td>\n",
       "      <td>NaN</td>\n",
       "    </tr>\n",
       "    <tr>\n",
       "      <th>146</th>\n",
       "      <td>dinner</td>\n",
       "      <td>fbfe493f-23df-4a5b-bb88-9fc1446ea001</td>\n",
       "      <td>lunch</td>\n",
       "      <td>chicken</td>\n",
       "      <td>main course</td>\n",
       "    </tr>\n",
       "    <tr>\n",
       "      <th>147</th>\n",
       "      <td>snack</td>\n",
       "      <td>c8b3471d-8f6f-42a3-8b74-3daccc24b3d7</td>\n",
       "      <td></td>\n",
       "      <td></td>\n",
       "      <td></td>\n",
       "    </tr>\n",
       "  </tbody>\n",
       "</table>\n",
       "<p>112 rows × 5 columns</p>\n",
       "</div>"
      ],
      "text/plain": [
       "        meal_type                             recipe_id alternative_meal_type  \\\n",
       "0       breakfast  2c2703b4-ed39-468d-a09b-4dda480e3bc7                   NaN   \n",
       "1                  099498aa-d5d1-4be5-be81-8525014cd5da                         \n",
       "2       breakfast  9534b335-0657-4da0-abc7-c2a58272f25a                   NaN   \n",
       "3          dinner  8d378ba0-3b46-4a23-b349-a1a183bbc4ec                   NaN   \n",
       "4                  ac3857b2-7a42-4e88-af04-35361b550f2b                         \n",
       "..            ...                                   ...                   ...   \n",
       "143  lunch/dinner  b4d8589f-3948-4e51-a172-e9827403871e                   NaN   \n",
       "144          Soup  ce359911-75fa-42a5-8a1f-d9e3f0ce480b                         \n",
       "145         snack  ada2bd7c-f09e-4581-a6e1-131342da397d                   NaN   \n",
       "146        dinner  fbfe493f-23df-4a5b-bb88-9fc1446ea001                 lunch   \n",
       "147         snack  c8b3471d-8f6f-42a3-8b74-3daccc24b3d7                         \n",
       "\n",
       "      category             course_type  \n",
       "0          NaN                     NaN  \n",
       "1               Main Course, Side Dish  \n",
       "2          NaN                     NaN  \n",
       "3          NaN                     NaN  \n",
       "4                            Appetizer  \n",
       "..         ...                     ...  \n",
       "143        NaN                     NaN  \n",
       "144  Appetizer               Side Dish  \n",
       "145        NaN                     NaN  \n",
       "146    chicken             main course  \n",
       "147                                     \n",
       "\n",
       "[112 rows x 5 columns]"
      ]
     },
     "execution_count": 14,
     "metadata": {},
     "output_type": "execute_result"
    }
   ],
   "source": [
    "CATEGORY = \"../../app/data/processed/recipes_AI.json\"\n",
    "cat = pd.read_json(CATEGORY)\n",
    "recipe_filtered = cat[cat['recipe_id'].isin(data_rm['B'])]\n",
    "recipe_filtered"
   ]
  }
 ],
 "metadata": {
  "kernelspec": {
   "display_name": "digest-dub-thpHjbCl-py3.12",
   "language": "python",
   "name": "python3"
  },
  "language_info": {
   "codemirror_mode": {
    "name": "ipython",
    "version": 3
   },
   "file_extension": ".py",
   "mimetype": "text/x-python",
   "name": "python",
   "nbconvert_exporter": "python",
   "pygments_lexer": "ipython3",
   "version": "3.12.3"
  }
 },
 "nbformat": 4,
 "nbformat_minor": 2
}
